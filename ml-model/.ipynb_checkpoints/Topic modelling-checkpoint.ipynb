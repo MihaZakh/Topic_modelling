{
 "cells": [
  {
   "cell_type": "markdown",
   "metadata": {},
   "source": [
    "# Topic Modelling for Vk posts about University of Tyumen"
   ]
  },
  {
   "cell_type": "code",
   "execution_count": 3,
   "metadata": {},
   "outputs": [],
   "source": [
    "import pandas as pd\n",
    "import numpy as np\n",
    "import re\n",
    "\n",
    "import gensim\n",
    "import gensim.corpora as corpora\n",
    "from gensim.models import CoherenceModel\n",
    "\n",
    "#import pyLDAvis\n",
    "#import pyLDAvis.gensim  \n",
    "import matplotlib.pyplot as plt\n",
    "%matplotlib inline\n",
    "\n",
    "from tqdm import tqdm_notebook\n",
    "import warnings\n",
    "warnings.filterwarnings(\"ignore\",category=DeprecationWarning)"
   ]
  },
  {
   "cell_type": "code",
   "execution_count": 4,
   "metadata": {},
   "outputs": [
    {
     "data": {
      "text/html": [
       "<div>\n",
       "<style scoped>\n",
       "    .dataframe tbody tr th:only-of-type {\n",
       "        vertical-align: middle;\n",
       "    }\n",
       "\n",
       "    .dataframe tbody tr th {\n",
       "        vertical-align: top;\n",
       "    }\n",
       "\n",
       "    .dataframe thead th {\n",
       "        text-align: right;\n",
       "    }\n",
       "</style>\n",
       "<table border=\"1\" class=\"dataframe\">\n",
       "  <thead>\n",
       "    <tr style=\"text-align: right;\">\n",
       "      <th></th>\n",
       "      <th>id</th>\n",
       "      <th>date</th>\n",
       "      <th>owner_id</th>\n",
       "      <th>text</th>\n",
       "      <th>likes</th>\n",
       "      <th>reposts</th>\n",
       "      <th>comments</th>\n",
       "      <th>txt_processed</th>\n",
       "      <th>lines_lemmatized</th>\n",
       "    </tr>\n",
       "  </thead>\n",
       "  <tbody>\n",
       "    <tr>\n",
       "      <th>0</th>\n",
       "      <td>66</td>\n",
       "      <td>2011-12-03 10:18:00</td>\n",
       "      <td>-1243876</td>\n",
       "      <td>ГОЛОСУЕМ ЗА БОГУ!!\\n\\n\"Дорогие друзья! Голосуй...</td>\n",
       "      <td>6</td>\n",
       "      <td>1</td>\n",
       "      <td>1</td>\n",
       "      <td>голосуем за богу дорогие друзья голосуйте за м...</td>\n",
       "      <td>['iv', 'международный', 'фестиваль', 'документ...</td>\n",
       "    </tr>\n",
       "    <tr>\n",
       "      <th>1</th>\n",
       "      <td>10588</td>\n",
       "      <td>2012-03-19 13:58:45</td>\n",
       "      <td>695803</td>\n",
       "      <td>Позавчера я написал пост про то, как мы заехал...</td>\n",
       "      <td>8</td>\n",
       "      <td>3</td>\n",
       "      <td>16</td>\n",
       "      <td>позавчера я написал пост про то как мы заехали...</td>\n",
       "      <td>['позавчера', 'написать', 'пост', 'заезжать', ...</td>\n",
       "    </tr>\n",
       "    <tr>\n",
       "      <th>2</th>\n",
       "      <td>800</td>\n",
       "      <td>2012-04-10 04:55:40</td>\n",
       "      <td>102648080</td>\n",
       "      <td>В эти минуты идет прямая трансляция лекции про...</td>\n",
       "      <td>2</td>\n",
       "      <td>1</td>\n",
       "      <td>0</td>\n",
       "      <td>в эти минуты идет прямая трансляция лекции про...</td>\n",
       "      <td>['минута', 'идти', 'прямой', 'трансляция', 'ле...</td>\n",
       "    </tr>\n",
       "    <tr>\n",
       "      <th>3</th>\n",
       "      <td>5810</td>\n",
       "      <td>2012-05-07 06:49:16</td>\n",
       "      <td>70549719</td>\n",
       "      <td>12 апреля 2012 г. в Тюменском государственном ...</td>\n",
       "      <td>1</td>\n",
       "      <td>1</td>\n",
       "      <td>0</td>\n",
       "      <td>апреля г в тюменском государственном университ...</td>\n",
       "      <td>['апрель', 'г', 'тюменский', 'государственный'...</td>\n",
       "    </tr>\n",
       "    <tr>\n",
       "      <th>4</th>\n",
       "      <td>5003</td>\n",
       "      <td>2012-11-12 11:10:00</td>\n",
       "      <td>61866128</td>\n",
       "      <td>Дорогие друзья, журнал \"ЕГОРКА\" участвует в ко...</td>\n",
       "      <td>2</td>\n",
       "      <td>1</td>\n",
       "      <td>2</td>\n",
       "      <td>дорогие друзья журнал егорка участвует в конку...</td>\n",
       "      <td>['дорогой', 'друг', 'журнал', 'егорка', 'участ...</td>\n",
       "    </tr>\n",
       "  </tbody>\n",
       "</table>\n",
       "</div>"
      ],
      "text/plain": [
       "      id                 date   owner_id  \\\n",
       "0     66  2011-12-03 10:18:00   -1243876   \n",
       "1  10588  2012-03-19 13:58:45     695803   \n",
       "2    800  2012-04-10 04:55:40  102648080   \n",
       "3   5810  2012-05-07 06:49:16   70549719   \n",
       "4   5003  2012-11-12 11:10:00   61866128   \n",
       "\n",
       "                                                text  likes  reposts  \\\n",
       "0  ГОЛОСУЕМ ЗА БОГУ!!\\n\\n\"Дорогие друзья! Голосуй...      6        1   \n",
       "1  Позавчера я написал пост про то, как мы заехал...      8        3   \n",
       "2  В эти минуты идет прямая трансляция лекции про...      2        1   \n",
       "3  12 апреля 2012 г. в Тюменском государственном ...      1        1   \n",
       "4  Дорогие друзья, журнал \"ЕГОРКА\" участвует в ко...      2        1   \n",
       "\n",
       "   comments                                      txt_processed  \\\n",
       "0         1  голосуем за богу дорогие друзья голосуйте за м...   \n",
       "1        16  позавчера я написал пост про то как мы заехали...   \n",
       "2         0  в эти минуты идет прямая трансляция лекции про...   \n",
       "3         0  апреля г в тюменском государственном университ...   \n",
       "4         2  дорогие друзья журнал егорка участвует в конку...   \n",
       "\n",
       "                                    lines_lemmatized  \n",
       "0  ['iv', 'международный', 'фестиваль', 'документ...  \n",
       "1  ['позавчера', 'написать', 'пост', 'заезжать', ...  \n",
       "2  ['минута', 'идти', 'прямой', 'трансляция', 'ле...  \n",
       "3  ['апрель', 'г', 'тюменский', 'государственный'...  \n",
       "4  ['дорогой', 'друг', 'журнал', 'егорка', 'участ...  "
      ]
     },
     "execution_count": 4,
     "metadata": {},
     "output_type": "execute_result"
    }
   ],
   "source": [
    "data =  pd.read_csv('vk_posts_2011-2020_lemmatized.csv').loc[:, ['id', 'date', 'owner_id', 'text', 'likes', 'reposts', 'comments', 'txt_processed', 'lines_lemmatized']]\n",
    "data.head()"
   ]
  },
  {
   "cell_type": "code",
   "execution_count": 5,
   "metadata": {},
   "outputs": [
    {
     "data": {
      "text/html": [
       "<div>\n",
       "<style scoped>\n",
       "    .dataframe tbody tr th:only-of-type {\n",
       "        vertical-align: middle;\n",
       "    }\n",
       "\n",
       "    .dataframe tbody tr th {\n",
       "        vertical-align: top;\n",
       "    }\n",
       "\n",
       "    .dataframe thead th {\n",
       "        text-align: right;\n",
       "    }\n",
       "</style>\n",
       "<table border=\"1\" class=\"dataframe\">\n",
       "  <thead>\n",
       "    <tr style=\"text-align: right;\">\n",
       "      <th></th>\n",
       "      <th>id</th>\n",
       "      <th>date</th>\n",
       "      <th>owner_id</th>\n",
       "      <th>text</th>\n",
       "      <th>likes</th>\n",
       "      <th>reposts</th>\n",
       "      <th>comments</th>\n",
       "      <th>txt_processed</th>\n",
       "      <th>lines_lemmatized</th>\n",
       "    </tr>\n",
       "  </thead>\n",
       "  <tbody>\n",
       "    <tr>\n",
       "      <th>0</th>\n",
       "      <td>4259</td>\n",
       "      <td>2019-01-13 20:38:33</td>\n",
       "      <td>-20762107</td>\n",
       "      <td>Высшая лига А. 9 тур. 2 день / Результаты 📋\\n\\...</td>\n",
       "      <td>12</td>\n",
       "      <td>0</td>\n",
       "      <td>0</td>\n",
       "      <td>высшая лига а тур день результаты тюмень тюмгу...</td>\n",
       "      <td>['высокий', 'лига', 'тур', 'день', 'результат'...</td>\n",
       "    </tr>\n",
       "    <tr>\n",
       "      <th>1</th>\n",
       "      <td>9896</td>\n",
       "      <td>2019-01-13 18:59:12</td>\n",
       "      <td>-45668536</td>\n",
       "      <td>12-13 января в рамках 9-го тура Чемпионата Рос...</td>\n",
       "      <td>17</td>\n",
       "      <td>0</td>\n",
       "      <td>0</td>\n",
       "      <td>января в рамках го тура чемпионата россии сред...</td>\n",
       "      <td>['январь', 'рамка', 'го', 'тур', 'чемпионат', ...</td>\n",
       "    </tr>\n",
       "    <tr>\n",
       "      <th>2</th>\n",
       "      <td>17974</td>\n",
       "      <td>2019-01-13 16:14:24</td>\n",
       "      <td>-64025511</td>\n",
       "      <td>Наставник «Тюмени-ТюмГУ» Наталья Васильченко -...</td>\n",
       "      <td>13</td>\n",
       "      <td>3</td>\n",
       "      <td>0</td>\n",
       "      <td>наставник тюмени тюмгу наталья васильченко о в...</td>\n",
       "      <td>['наставник', 'тюмень', 'тюмга', 'наталья', 'в...</td>\n",
       "    </tr>\n",
       "    <tr>\n",
       "      <th>3</th>\n",
       "      <td>5593</td>\n",
       "      <td>2019-01-13 15:52:52</td>\n",
       "      <td>-8775943</td>\n",
       "      <td>Яна Чередникова: «За первую партию нас ругают»...</td>\n",
       "      <td>6</td>\n",
       "      <td>2</td>\n",
       "      <td>0</td>\n",
       "      <td>яна чередникова за первую партию нас ругают во...</td>\n",
       "      <td>['яна', 'чередникова', 'первый', 'партия', 'ру...</td>\n",
       "    </tr>\n",
       "    <tr>\n",
       "      <th>4</th>\n",
       "      <td>5591</td>\n",
       "      <td>2019-01-13 15:00:24</td>\n",
       "      <td>-8775943</td>\n",
       "      <td>Наталья Васильченко: «Девчонки плакали, я еле ...</td>\n",
       "      <td>17</td>\n",
       "      <td>2</td>\n",
       "      <td>0</td>\n",
       "      <td>наталья васильченко девчонки плакали я еле сде...</td>\n",
       "      <td>['наталья', 'васильченко', 'девчонка', 'плакат...</td>\n",
       "    </tr>\n",
       "  </tbody>\n",
       "</table>\n",
       "</div>"
      ],
      "text/plain": [
       "      id                 date  owner_id  \\\n",
       "0   4259  2019-01-13 20:38:33 -20762107   \n",
       "1   9896  2019-01-13 18:59:12 -45668536   \n",
       "2  17974  2019-01-13 16:14:24 -64025511   \n",
       "3   5593  2019-01-13 15:52:52  -8775943   \n",
       "4   5591  2019-01-13 15:00:24  -8775943   \n",
       "\n",
       "                                                text  likes  reposts  \\\n",
       "0  Высшая лига А. 9 тур. 2 день / Результаты 📋\\n\\...     12        0   \n",
       "1  12-13 января в рамках 9-го тура Чемпионата Рос...     17        0   \n",
       "2  Наставник «Тюмени-ТюмГУ» Наталья Васильченко -...     13        3   \n",
       "3  Яна Чередникова: «За первую партию нас ругают»...      6        2   \n",
       "4  Наталья Васильченко: «Девчонки плакали, я еле ...     17        2   \n",
       "\n",
       "   comments                                      txt_processed  \\\n",
       "0         0  высшая лига а тур день результаты тюмень тюмгу...   \n",
       "1         0  января в рамках го тура чемпионата россии сред...   \n",
       "2         0  наставник тюмени тюмгу наталья васильченко о в...   \n",
       "3         0  яна чередникова за первую партию нас ругают во...   \n",
       "4         0  наталья васильченко девчонки плакали я еле сде...   \n",
       "\n",
       "                                    lines_lemmatized  \n",
       "0  ['высокий', 'лига', 'тур', 'день', 'результат'...  \n",
       "1  ['январь', 'рамка', 'го', 'тур', 'чемпионат', ...  \n",
       "2  ['наставник', 'тюмень', 'тюмга', 'наталья', 'в...  \n",
       "3  ['яна', 'чередникова', 'первый', 'партия', 'ру...  \n",
       "4  ['наталья', 'васильченко', 'девчонка', 'плакат...  "
      ]
     },
     "execution_count": 5,
     "metadata": {},
     "output_type": "execute_result"
    }
   ],
   "source": [
    "data_add = pd.read_csv('vk_posts_2019-2020_lemmatized.csv').loc[:, ['id', 'date', 'owner_id', 'text', 'likes', 'reposts', 'comments', 'txt_processed', 'lines_lemmatized']]\n",
    "data_add.head()"
   ]
  },
  {
   "cell_type": "code",
   "execution_count": 6,
   "metadata": {},
   "outputs": [
    {
     "data": {
      "text/html": [
       "<div>\n",
       "<style scoped>\n",
       "    .dataframe tbody tr th:only-of-type {\n",
       "        vertical-align: middle;\n",
       "    }\n",
       "\n",
       "    .dataframe tbody tr th {\n",
       "        vertical-align: top;\n",
       "    }\n",
       "\n",
       "    .dataframe thead th {\n",
       "        text-align: right;\n",
       "    }\n",
       "</style>\n",
       "<table border=\"1\" class=\"dataframe\">\n",
       "  <thead>\n",
       "    <tr style=\"text-align: right;\">\n",
       "      <th></th>\n",
       "      <th>id</th>\n",
       "      <th>date</th>\n",
       "      <th>owner_id</th>\n",
       "      <th>text</th>\n",
       "      <th>likes</th>\n",
       "      <th>reposts</th>\n",
       "      <th>comments</th>\n",
       "      <th>txt_processed</th>\n",
       "      <th>lines_lemmatized</th>\n",
       "    </tr>\n",
       "  </thead>\n",
       "  <tbody>\n",
       "    <tr>\n",
       "      <th>0</th>\n",
       "      <td>66</td>\n",
       "      <td>2011-12-03 10:18:00</td>\n",
       "      <td>-1243876</td>\n",
       "      <td>ГОЛОСУЕМ ЗА БОГУ!!\\n\\n\"Дорогие друзья! Голосуй...</td>\n",
       "      <td>6</td>\n",
       "      <td>1</td>\n",
       "      <td>1</td>\n",
       "      <td>голосуем за богу дорогие друзья голосуйте за м...</td>\n",
       "      <td>['iv', 'международный', 'фестиваль', 'документ...</td>\n",
       "    </tr>\n",
       "    <tr>\n",
       "      <th>1</th>\n",
       "      <td>10588</td>\n",
       "      <td>2012-03-19 13:58:45</td>\n",
       "      <td>695803</td>\n",
       "      <td>Позавчера я написал пост про то, как мы заехал...</td>\n",
       "      <td>8</td>\n",
       "      <td>3</td>\n",
       "      <td>16</td>\n",
       "      <td>позавчера я написал пост про то как мы заехали...</td>\n",
       "      <td>['позавчера', 'написать', 'пост', 'заезжать', ...</td>\n",
       "    </tr>\n",
       "    <tr>\n",
       "      <th>2</th>\n",
       "      <td>800</td>\n",
       "      <td>2012-04-10 04:55:40</td>\n",
       "      <td>102648080</td>\n",
       "      <td>В эти минуты идет прямая трансляция лекции про...</td>\n",
       "      <td>2</td>\n",
       "      <td>1</td>\n",
       "      <td>0</td>\n",
       "      <td>в эти минуты идет прямая трансляция лекции про...</td>\n",
       "      <td>['минута', 'идти', 'прямой', 'трансляция', 'ле...</td>\n",
       "    </tr>\n",
       "    <tr>\n",
       "      <th>3</th>\n",
       "      <td>5810</td>\n",
       "      <td>2012-05-07 06:49:16</td>\n",
       "      <td>70549719</td>\n",
       "      <td>12 апреля 2012 г. в Тюменском государственном ...</td>\n",
       "      <td>1</td>\n",
       "      <td>1</td>\n",
       "      <td>0</td>\n",
       "      <td>апреля г в тюменском государственном университ...</td>\n",
       "      <td>['апрель', 'г', 'тюменский', 'государственный'...</td>\n",
       "    </tr>\n",
       "    <tr>\n",
       "      <th>4</th>\n",
       "      <td>5003</td>\n",
       "      <td>2012-11-12 11:10:00</td>\n",
       "      <td>61866128</td>\n",
       "      <td>Дорогие друзья, журнал \"ЕГОРКА\" участвует в ко...</td>\n",
       "      <td>2</td>\n",
       "      <td>1</td>\n",
       "      <td>2</td>\n",
       "      <td>дорогие друзья журнал егорка участвует в конку...</td>\n",
       "      <td>['дорогой', 'друг', 'журнал', 'егорка', 'участ...</td>\n",
       "    </tr>\n",
       "  </tbody>\n",
       "</table>\n",
       "</div>"
      ],
      "text/plain": [
       "      id                 date   owner_id  \\\n",
       "0     66  2011-12-03 10:18:00   -1243876   \n",
       "1  10588  2012-03-19 13:58:45     695803   \n",
       "2    800  2012-04-10 04:55:40  102648080   \n",
       "3   5810  2012-05-07 06:49:16   70549719   \n",
       "4   5003  2012-11-12 11:10:00   61866128   \n",
       "\n",
       "                                                text  likes  reposts  \\\n",
       "0  ГОЛОСУЕМ ЗА БОГУ!!\\n\\n\"Дорогие друзья! Голосуй...      6        1   \n",
       "1  Позавчера я написал пост про то, как мы заехал...      8        3   \n",
       "2  В эти минуты идет прямая трансляция лекции про...      2        1   \n",
       "3  12 апреля 2012 г. в Тюменском государственном ...      1        1   \n",
       "4  Дорогие друзья, журнал \"ЕГОРКА\" участвует в ко...      2        1   \n",
       "\n",
       "   comments                                      txt_processed  \\\n",
       "0         1  голосуем за богу дорогие друзья голосуйте за м...   \n",
       "1        16  позавчера я написал пост про то как мы заехали...   \n",
       "2         0  в эти минуты идет прямая трансляция лекции про...   \n",
       "3         0  апреля г в тюменском государственном университ...   \n",
       "4         2  дорогие друзья журнал егорка участвует в конку...   \n",
       "\n",
       "                                    lines_lemmatized  \n",
       "0  ['iv', 'международный', 'фестиваль', 'документ...  \n",
       "1  ['позавчера', 'написать', 'пост', 'заезжать', ...  \n",
       "2  ['минута', 'идти', 'прямой', 'трансляция', 'ле...  \n",
       "3  ['апрель', 'г', 'тюменский', 'государственный'...  \n",
       "4  ['дорогой', 'друг', 'журнал', 'егорка', 'участ...  "
      ]
     },
     "execution_count": 6,
     "metadata": {},
     "output_type": "execute_result"
    }
   ],
   "source": [
    "data_lemmas = pd.concat([data, data_add])\n",
    "data_lemmas.head()"
   ]
  },
  {
   "cell_type": "code",
   "execution_count": 7,
   "metadata": {},
   "outputs": [],
   "source": [
    "data_lemmas = data_lemmas.drop_duplicates(subset='text').reset_index(drop=True)"
   ]
  },
  {
   "cell_type": "code",
   "execution_count": 8,
   "metadata": {},
   "outputs": [
    {
     "data": {
      "text/plain": [
       "<AxesSubplot:xlabel='year'>"
      ]
     },
     "execution_count": 8,
     "metadata": {},
     "output_type": "execute_result"
    },
    {
     "data": {
      "image/png": "[encoded data removed]",
      "text/plain": [
       "<Figure size 432x288 with 1 Axes>"
      ]
     },
     "metadata": {
      "needs_background": "light"
     },
     "output_type": "display_data"
    }
   ],
   "source": [
    "data_lemmas['date'] = pd.to_datetime(data_lemmas['date'])\n",
    "data_lemmas['year'] = data_lemmas['date'].dt.year\n",
    "posts_per_year = data_lemmas.groupby(['year'])['id'].count()\n",
    "posts_per_year.plot.bar()"
   ]
  },
  {
   "cell_type": "code",
   "execution_count": 9,
   "metadata": {},
   "outputs": [
    {
     "data": {
      "text/plain": [
       "<AxesSubplot:>"
      ]
     },
     "execution_count": 9,
     "metadata": {},
     "output_type": "execute_result"
    },
    {
     "data": {
      "image/png": "[encoded data removed]",
      "text/plain": [
       "<Figure size 432x288 with 1 Axes>"
      ]
     },
     "metadata": {
      "needs_background": "light"
     },
     "output_type": "display_data"
    }
   ],
   "source": [
    "data_lemmas['lenght'] = data_lemmas['lines_lemmatized'].apply(len)\n",
    "data_lemmas['lenght'].hist(bins=50)"
   ]
  },
  {
   "cell_type": "code",
   "execution_count": 45,
   "metadata": {},
   "outputs": [
    {
     "data": {
      "text/plain": [
       "(72916, 11)"
      ]
     },
     "execution_count": 45,
     "metadata": {},
     "output_type": "execute_result"
    }
   ],
   "source": [
    "data_lemmas[data_lemmas['lenght']>=50].shape"
   ]
  },
  {
   "cell_type": "code",
   "execution_count": 46,
   "metadata": {},
   "outputs": [
    {
     "data": {
      "text/plain": [
       "74354"
      ]
     },
     "execution_count": 46,
     "metadata": {},
     "output_type": "execute_result"
    }
   ],
   "source": [
    "len(data_lemmas)"
   ]
  },
  {
   "cell_type": "code",
   "execution_count": 47,
   "metadata": {},
   "outputs": [],
   "source": [
    "# removing short texts\n",
    "data_lemmas = data_lemmas[data_lemmas['lenght']>=50].reset_index(drop=True)"
   ]
  },
  {
   "cell_type": "markdown",
   "metadata": {},
   "source": [
    "## Selecting a subset of data for hyperparameter tuning"
   ]
  },
  {
   "cell_type": "code",
   "execution_count": 13,
   "metadata": {},
   "outputs": [
    {
     "data": {
      "text/plain": [
       "(15000, 11)"
      ]
     },
     "execution_count": 13,
     "metadata": {},
     "output_type": "execute_result"
    }
   ],
   "source": [
    "stratified_data = []\n",
    "for year in range(2015, 2020):\n",
    "    stratified_data.append(data_lemmas[data_lemmas['year'].isin([year])].sample(3000))\n",
    "stratified_data = pd.concat(stratified_data)\n",
    "stratified_data.shape"
   ]
  },
  {
   "cell_type": "code",
   "execution_count": 14,
   "metadata": {},
   "outputs": [
    {
     "data": {
      "text/html": [
       "<div>\n",
       "<style scoped>\n",
       "    .dataframe tbody tr th:only-of-type {\n",
       "        vertical-align: middle;\n",
       "    }\n",
       "\n",
       "    .dataframe tbody tr th {\n",
       "        vertical-align: top;\n",
       "    }\n",
       "\n",
       "    .dataframe thead th {\n",
       "        text-align: right;\n",
       "    }\n",
       "</style>\n",
       "<table border=\"1\" class=\"dataframe\">\n",
       "  <thead>\n",
       "    <tr style=\"text-align: right;\">\n",
       "      <th></th>\n",
       "      <th>id</th>\n",
       "      <th>date</th>\n",
       "      <th>owner_id</th>\n",
       "      <th>text</th>\n",
       "      <th>likes</th>\n",
       "      <th>reposts</th>\n",
       "      <th>comments</th>\n",
       "      <th>txt_processed</th>\n",
       "      <th>lines_lemmatized</th>\n",
       "      <th>year</th>\n",
       "      <th>lenght</th>\n",
       "    </tr>\n",
       "  </thead>\n",
       "  <tbody>\n",
       "    <tr>\n",
       "      <th>34810</th>\n",
       "      <td>17158</td>\n",
       "      <td>2015-10-24 14:17:00</td>\n",
       "      <td>123782879</td>\n",
       "      <td>Какие возможности вы сами могли бы иметь в сво...</td>\n",
       "      <td>2</td>\n",
       "      <td>1</td>\n",
       "      <td>0</td>\n",
       "      <td>какие возможности вы сами могли бы иметь в сво...</td>\n",
       "      <td>['возможность', 'иметь', 'свой', 'писать', 'ко...</td>\n",
       "      <td>2015</td>\n",
       "      <td>136</td>\n",
       "    </tr>\n",
       "    <tr>\n",
       "      <th>8185</th>\n",
       "      <td>557</td>\n",
       "      <td>2015-12-06 12:03:54</td>\n",
       "      <td>-98877741</td>\n",
       "      <td>196 ЛЕТ-НА СЛУЖБЕ РОССИИ!\\n\\n6 декабря – день ...</td>\n",
       "      <td>15</td>\n",
       "      <td>5</td>\n",
       "      <td>0</td>\n",
       "      <td>летна службе россии декабря день основания одн...</td>\n",
       "      <td>['летный', 'служба', 'россия', 'декабрь', 'ден...</td>\n",
       "      <td>2015</td>\n",
       "      <td>17200</td>\n",
       "    </tr>\n",
       "    <tr>\n",
       "      <th>7410</th>\n",
       "      <td>20</td>\n",
       "      <td>2015-09-01 06:18:06</td>\n",
       "      <td>-101264368</td>\n",
       "      <td>Тюменские аграрии представили хамон и моцарелл...</td>\n",
       "      <td>6</td>\n",
       "      <td>2</td>\n",
       "      <td>0</td>\n",
       "      <td>тюменские аграрии представили хамон и моцарелл...</td>\n",
       "      <td>['тюменский', 'аграрий', 'представлять', 'хамо...</td>\n",
       "      <td>2015</td>\n",
       "      <td>3106</td>\n",
       "    </tr>\n",
       "    <tr>\n",
       "      <th>194</th>\n",
       "      <td>2084</td>\n",
       "      <td>2015-09-01 07:29:29</td>\n",
       "      <td>-23769646</td>\n",
       "      <td>А пока начинается новый учебный год, Книгообме...</td>\n",
       "      <td>2</td>\n",
       "      <td>0</td>\n",
       "      <td>0</td>\n",
       "      <td>а пока начинается новый учебный год книгообмен...</td>\n",
       "      <td>['начинаться', 'новый', 'учебный', 'год', 'кни...</td>\n",
       "      <td>2015</td>\n",
       "      <td>598</td>\n",
       "    </tr>\n",
       "    <tr>\n",
       "      <th>33950</th>\n",
       "      <td>2355</td>\n",
       "      <td>2015-06-10 11:13:04</td>\n",
       "      <td>-63975920</td>\n",
       "      <td>О СИТУАЦИИ С ПРИЕМОМ БАТАРЕЕК:\\n\\nДорогие друз...</td>\n",
       "      <td>11</td>\n",
       "      <td>0</td>\n",
       "      <td>1</td>\n",
       "      <td>о ситуации с приемом батареек дорогие друзья к...</td>\n",
       "      <td>['ситуация', 'прием', 'батарейка', 'дорогой', ...</td>\n",
       "      <td>2015</td>\n",
       "      <td>2960</td>\n",
       "    </tr>\n",
       "  </tbody>\n",
       "</table>\n",
       "</div>"
      ],
      "text/plain": [
       "          id                date   owner_id  \\\n",
       "34810  17158 2015-10-24 14:17:00  123782879   \n",
       "8185     557 2015-12-06 12:03:54  -98877741   \n",
       "7410      20 2015-09-01 06:18:06 -101264368   \n",
       "194     2084 2015-09-01 07:29:29  -23769646   \n",
       "33950   2355 2015-06-10 11:13:04  -63975920   \n",
       "\n",
       "                                                    text  likes  reposts  \\\n",
       "34810  Какие возможности вы сами могли бы иметь в сво...      2        1   \n",
       "8185   196 ЛЕТ-НА СЛУЖБЕ РОССИИ!\\n\\n6 декабря – день ...     15        5   \n",
       "7410   Тюменские аграрии представили хамон и моцарелл...      6        2   \n",
       "194    А пока начинается новый учебный год, Книгообме...      2        0   \n",
       "33950  О СИТУАЦИИ С ПРИЕМОМ БАТАРЕЕК:\\n\\nДорогие друз...     11        0   \n",
       "\n",
       "       comments                                      txt_processed  \\\n",
       "34810         0  какие возможности вы сами могли бы иметь в сво...   \n",
       "8185          0  летна службе россии декабря день основания одн...   \n",
       "7410          0  тюменские аграрии представили хамон и моцарелл...   \n",
       "194           0  а пока начинается новый учебный год книгообмен...   \n",
       "33950         1  о ситуации с приемом батареек дорогие друзья к...   \n",
       "\n",
       "                                        lines_lemmatized  year  lenght  \n",
       "34810  ['возможность', 'иметь', 'свой', 'писать', 'ко...  2015     136  \n",
       "8185   ['летный', 'служба', 'россия', 'декабрь', 'ден...  2015   17200  \n",
       "7410   ['тюменский', 'аграрий', 'представлять', 'хамо...  2015    3106  \n",
       "194    ['начинаться', 'новый', 'учебный', 'год', 'кни...  2015     598  \n",
       "33950  ['ситуация', 'прием', 'батарейка', 'дорогой', ...  2015    2960  "
      ]
     },
     "execution_count": 14,
     "metadata": {},
     "output_type": "execute_result"
    }
   ],
   "source": [
    "stratified_data.head()"
   ]
  },
  {
   "cell_type": "code",
   "execution_count": 15,
   "metadata": {},
   "outputs": [
    {
     "data": {
      "text/plain": [
       "34810    ['возможность', 'иметь', 'свой', 'писать', 'ко...\n",
       "8185     ['летный', 'служба', 'россия', 'декабрь', 'ден...\n",
       "7410     ['тюменский', 'аграрий', 'представлять', 'хамо...\n",
       "194      ['начинаться', 'новый', 'учебный', 'год', 'кни...\n",
       "33950    ['ситуация', 'прием', 'батарейка', 'дорогой', ...\n",
       "Name: lines_lemmatized, dtype: object"
      ]
     },
     "execution_count": 15,
     "metadata": {},
     "output_type": "execute_result"
    }
   ],
   "source": [
    "stratified_data['lines_lemmatized'].head()"
   ]
  },
  {
   "cell_type": "code",
   "execution_count": 16,
   "metadata": {},
   "outputs": [],
   "source": [
    "#data_words = np.empty(shape=[15000, 1], dtype=list)\n",
    "i = 0\n",
    "data_words = []\n",
    "for row in stratified_data['lines_lemmatized']:\n",
    "    word_list = row[1:-1].split(', ')\n",
    "    element = []\n",
    "    for word in word_list:\n",
    "        element.append(word[1:-1])\n",
    "    data_words.append(np.array(element, dtype=list))\n",
    "    i+=1\n",
    "        \n",
    "#data_words = [row for row in stratified_data['lines_lemmatized']]#.to_numpy(dtype=list)\n",
    "#data_words = data['lines_lemmatized'].to_numpy()"
   ]
  },
  {
   "cell_type": "code",
   "execution_count": 17,
   "metadata": {},
   "outputs": [
    {
     "data": {
      "text/plain": [
       "array(['возможность', 'иметь', 'свой', 'писать', 'комментарий', 'итог',\n",
       "       'написать', 'объявление', 'гранпри', 'дебют', 'первокурсник',\n",
       "       'тюмга'], dtype=object)"
      ]
     },
     "execution_count": 17,
     "metadata": {},
     "output_type": "execute_result"
    }
   ],
   "source": [
    "data_words[0]"
   ]
  },
  {
   "cell_type": "code",
   "execution_count": 18,
   "metadata": {},
   "outputs": [],
   "source": [
    "for i in range(0, len(data_words)-1):\n",
    "    word_list = data_words[i]\n",
    "    for word in word_list:\n",
    "        if len(word) <= 2:\n",
    "            word_list = np.delete(word_list, np.where(word_list == word))\n",
    "    data_words[i] = word_list"
   ]
  },
  {
   "cell_type": "code",
   "execution_count": 19,
   "metadata": {},
   "outputs": [
    {
     "data": {
      "text/plain": [
       "array(['возможность', 'иметь', 'свой', 'писать', 'комментарий', 'итог',\n",
       "       'написать', 'объявление', 'гранпри', 'дебют', 'первокурсник',\n",
       "       'тюмга'], dtype=object)"
      ]
     },
     "execution_count": 19,
     "metadata": {},
     "output_type": "execute_result"
    }
   ],
   "source": [
    "data_words[0]"
   ]
  },
  {
   "cell_type": "code",
   "execution_count": 20,
   "metadata": {},
   "outputs": [],
   "source": [
    "bigram = gensim.models.Phrases(data_words, min_count=3, threshold=10) \n",
    "bigram_mod = gensim.models.phrases.Phraser(bigram)"
   ]
  },
  {
   "cell_type": "code",
   "execution_count": 21,
   "metadata": {},
   "outputs": [],
   "source": [
    "def make_bigrams(texts):\n",
    "    bigram_list = []\n",
    "    for doc in tqdm_notebook(texts, leave=False):\n",
    "        bigram_list.append(np.array(bigram_mod[list(doc)]))\n",
    "    return bigram_list"
   ]
  },
  {
   "cell_type": "code",
   "execution_count": 22,
   "metadata": {},
   "outputs": [
    {
     "data": {
      "application/vnd.jupyter.widget-view+json": {
       "model_id": "",
       "version_major": 2,
       "version_minor": 0
      },
      "text/plain": [
       "  0%|          | 0/15000 [00:00<?, ?it/s]"
      ]
     },
     "metadata": {},
     "output_type": "display_data"
    }
   ],
   "source": [
    "data_words_bigrams = make_bigrams(data_words)"
   ]
  },
  {
   "cell_type": "code",
   "execution_count": 23,
   "metadata": {},
   "outputs": [
    {
     "data": {
      "text/plain": [
       "array(['возможность', 'иметь', 'свой', 'писать_комментарий', 'итог',\n",
       "       'написать', 'объявление', 'гранпри', 'дебют_первокурсник', 'тюмга'],\n",
       "      dtype='<U18')"
      ]
     },
     "execution_count": 23,
     "metadata": {},
     "output_type": "execute_result"
    }
   ],
   "source": [
    "data_words_bigrams[0]"
   ]
  },
  {
   "cell_type": "code",
   "execution_count": 24,
   "metadata": {},
   "outputs": [],
   "source": [
    "# Create Dictionary\n",
    "id2word = corpora.Dictionary(data_words_bigrams)"
   ]
  },
  {
   "cell_type": "code",
   "execution_count": 25,
   "metadata": {},
   "outputs": [
    {
     "name": "stdout",
     "output_type": "stream",
     "text": [
      "Размер словаря до фильтрации: 112616\n"
     ]
    }
   ],
   "source": [
    "print(f'Размер словаря до фильтрации: {len(id2word)}')"
   ]
  },
  {
   "cell_type": "code",
   "execution_count": 26,
   "metadata": {},
   "outputs": [
    {
     "name": "stdout",
     "output_type": "stream",
     "text": [
      "Размер словаря после фильтрации: 49201\n"
     ]
    }
   ],
   "source": [
    "id2word.filter_extremes(no_below=3, no_above=0.5)\n",
    "print(f'Размер словаря после фильтрации: {len(id2word)}')"
   ]
  },
  {
   "cell_type": "code",
   "execution_count": 25,
   "metadata": {},
   "outputs": [],
   "source": [
    "# Create Corpus\n",
    "#texts = data_words_bigrams\n",
    "\n",
    "# Term Document Frequency\n",
    "#corpus = []\n",
    "#for text in tqdm_notebook(texts, leave=False):\n",
    "    #corpus.append(np.array(id2word.doc2bow(text)))"
   ]
  },
  {
   "cell_type": "code",
   "execution_count": 26,
   "metadata": {},
   "outputs": [],
   "source": [
    "def compute_coherence_values(dictionary, corpus, texts, limit, start=2, step=3):\n",
    "    \"\"\"\n",
    "    Compute c_v coherence for various number of topics\n",
    "    \n",
    "    Credits: https://www.machinelearningplus.com/nlp/topic-modeling-gensim-python/\n",
    "\n",
    "    Parameters:\n",
    "    ----------\n",
    "    dictionary : Gensim dictionary\n",
    "    corpus : Gensim corpus\n",
    "    texts : List of input texts\n",
    "    limit : Max num of topics\n",
    "\n",
    "    Returns:\n",
    "    -------\n",
    "    model_list : List of LDA topic models\n",
    "    coherence_values : Coherence values corresponding to the LDA model with respective number of topics\n",
    "    \"\"\"\n",
    "    coherence_values = []\n",
    "    #model_list = []\n",
    "    for num_topics in tqdm_notebook(range(start, limit, step)):\n",
    "        \n",
    "        model = gensim.models.ldamulticore.LdaMulticore(\n",
    "            corpus=corpus,\n",
    "            id2word=id2word,\n",
    "            num_topics=num_topics, \n",
    "            random_state=42,\n",
    "            chunksize=100,\n",
    "            passes=10,\n",
    "        )\n",
    "        #model_list.append(np.array(model))\n",
    "        coherencemodel = CoherenceModel(model=model, texts=texts, dictionary=dictionary, coherence='c_v')\n",
    "        coherence_values.append(coherencemodel.get_coherence())\n",
    "\n",
    "    #return model_list, coherence_values\n",
    "    return coherence_values"
   ]
  },
  {
   "cell_type": "markdown",
   "metadata": {},
   "source": [
    "# может, 35 попробовать? (было 55)\n",
    "#model_list, coherence_values = compute_coherence_values(\n",
    "coherence_values = compute_coherence_values(\n",
    "    dictionary=id2word, \n",
    "    corpus=corpus, \n",
    "    texts=texts, \n",
    "    start=5, limit=35, step=5\n",
    ")"
   ]
  },
  {
   "cell_type": "markdown",
   "metadata": {},
   "source": [
    "x = range(5, 35, 5)\n",
    "plt.plot(x, coherence_values)\n",
    "plt.xlabel(\"Num Topics\")\n",
    "plt.ylabel(\"Coherence score\")\n",
    "plt.legend((\"coherence_values\"), loc='best')\n",
    "plt.show()"
   ]
  },
  {
   "cell_type": "markdown",
   "metadata": {},
   "source": [
    "### Training on full data"
   ]
  },
  {
   "cell_type": "code",
   "execution_count": 48,
   "metadata": {},
   "outputs": [],
   "source": [
    "data_words = data_lemmas['lines_lemmatized'].to_numpy()"
   ]
  },
  {
   "cell_type": "code",
   "execution_count": 50,
   "metadata": {},
   "outputs": [
    {
     "data": {
      "text/plain": [
       "\"['хозяйка', 'заметка', 'студент', 'иметь', 'возможность', 'получать', 'государственный', 'именной', 'персональный', 'стипендия', 'имя', 'нынешний', 'стипендиат', 'сайт', 'httpwwwutmnrupressenovostistudencheskayazhizn']\""
      ]
     },
     "execution_count": 50,
     "metadata": {},
     "output_type": "execute_result"
    }
   ],
   "source": [
    "data_words[333]"
   ]
  },
  {
   "cell_type": "code",
   "execution_count": 51,
   "metadata": {},
   "outputs": [],
   "source": [
    "reg = re.compile(r'[a-z]')\n",
    "\n",
    "data_words_list = []\n",
    "for i in range(0, len(data_words)):\n",
    "    word_list = data_words[i]\n",
    "    word_list = word_list[1:-1].split(', ')\n",
    "    element = []\n",
    "    for word in word_list:\n",
    "        new_word = word[1:-1]\n",
    "        if len(new_word) <= 2 or reg.match(new_word):\n",
    "            continue\n",
    "        else:\n",
    "            element.append(new_word)\n",
    "    data_words_list.append(np.array(element))"
   ]
  },
  {
   "cell_type": "code",
   "execution_count": 52,
   "metadata": {},
   "outputs": [
    {
     "data": {
      "text/plain": [
       "array(['ребята', 'почему', 'символ', 'дебют', 'дракон', 'отвечать'],\n",
       "      dtype='<U8')"
      ]
     },
     "execution_count": 52,
     "metadata": {},
     "output_type": "execute_result"
    }
   ],
   "source": [
    "data_words_list[332]"
   ]
  },
  {
   "cell_type": "code",
   "execution_count": 53,
   "metadata": {},
   "outputs": [
    {
     "data": {
      "application/vnd.jupyter.widget-view+json": {
       "model_id": "",
       "version_major": 2,
       "version_minor": 0
      },
      "text/plain": [
       "  0%|          | 0/72916 [00:00<?, ?it/s]"
      ]
     },
     "metadata": {},
     "output_type": "display_data"
    },
    {
     "name": "stdout",
     "output_type": "stream",
     "text": [
      "Размер словаря до фильтрации: 283305\n",
      "Размер словаря после фильтрации: 100000\n"
     ]
    },
    {
     "data": {
      "application/vnd.jupyter.widget-view+json": {
       "model_id": "",
       "version_major": 2,
       "version_minor": 0
      },
      "text/plain": [
       "  0%|          | 0/72916 [00:00<?, ?it/s]"
      ]
     },
     "metadata": {},
     "output_type": "display_data"
    },
    {
     "name": "stdout",
     "output_type": "stream",
     "text": [
      "Wall time: 1min 15s\n"
     ]
    }
   ],
   "source": [
    "%%time\n",
    "#data_words = data_words.to_numpy()\n",
    "\n",
    "bigram = gensim.models.Phrases(data_words_list, min_count=3, threshold=10) \n",
    "bigram_mod = gensim.models.phrases.Phraser(bigram)\n",
    "data_words_bigrams = make_bigrams(data_words_list)\n",
    "id2word = corpora.Dictionary(data_words_bigrams)\n",
    "print(f'Размер словаря до фильтрации: {len(id2word)}')\n",
    "id2word.filter_extremes(no_below=3, no_above=0.5)\n",
    "print(f'Размер словаря после фильтрации: {len(id2word)}')\n",
    "\n",
    "# Create Corpus\n",
    "texts = data_words_bigrams\n",
    "# Term Document Frequency\n",
    "corpus = []\n",
    "for text in tqdm_notebook(texts, leave=False):\n",
    "    corpus.append(np.array(id2word.doc2bow(text)))"
   ]
  },
  {
   "cell_type": "code",
   "execution_count": 54,
   "metadata": {},
   "outputs": [
    {
     "name": "stdout",
     "output_type": "stream",
     "text": [
      "Wall time: 15min 28s\n"
     ]
    }
   ],
   "source": [
    "%%time\n",
    "final_model = gensim.models.ldamulticore.LdaMulticore(\n",
    "            corpus=corpus,\n",
    "            id2word=id2word,\n",
    "            num_topics=20, \n",
    "            random_state=42,\n",
    "            chunksize=100,\n",
    "            passes=10,\n",
    "        )"
   ]
  },
  {
   "cell_type": "code",
   "execution_count": 55,
   "metadata": {},
   "outputs": [
    {
     "data": {
      "text/plain": [
       "0.5035166722971507"
      ]
     },
     "execution_count": 55,
     "metadata": {},
     "output_type": "execute_result"
    }
   ],
   "source": [
    "coherencemodel = CoherenceModel(model=final_model, texts=texts, dictionary=id2word, coherence='c_v')\n",
    "coherencemodel.get_coherence()"
   ]
  },
  {
   "cell_type": "code",
   "execution_count": 56,
   "metadata": {},
   "outputs": [],
   "source": [
    "final_model.save('models/test_model_20_topics')"
   ]
  },
  {
   "cell_type": "code",
   "execution_count": 57,
   "metadata": {},
   "outputs": [],
   "source": [
    "import pickle\n",
    "with open('models/corpus', 'wb') as f:\n",
    "    pickle.dump(corpus, f)"
   ]
  },
  {
   "cell_type": "code",
   "execution_count": 58,
   "metadata": {},
   "outputs": [
    {
     "data": {
      "text/plain": [
       "72916"
      ]
     },
     "execution_count": 58,
     "metadata": {},
     "output_type": "execute_result"
    }
   ],
   "source": [
    "len(corpus)"
   ]
  },
  {
   "cell_type": "code",
   "execution_count": 59,
   "metadata": {},
   "outputs": [],
   "source": [
    "data_lemmas.to_pickle('data/posts_2011_2020_processed.pkl')"
   ]
  }
 ],
 "metadata": {
  "kernelspec": {
   "display_name": "Python 3",
   "language": "python",
   "name": "python3"
  },
  "language_info": {
   "codemirror_mode": {
    "name": "ipython",
    "version": 3
   },
   "file_extension": ".py",
   "mimetype": "text/x-python",
   "name": "python",
   "nbconvert_exporter": "python",
   "pygments_lexer": "ipython3",
   "version": "3.8.2"
  }
 },
 "nbformat": 4,
 "nbformat_minor": 4
}
